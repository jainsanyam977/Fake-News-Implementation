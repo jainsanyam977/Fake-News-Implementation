{
 "cells": [
  {
   "cell_type": "code",
   "execution_count": 36,
   "metadata": {},
   "outputs": [
    {
     "name": "stderr",
     "output_type": "stream",
     "text": [
      "[nltk_data] Downloading package stopwords to\n",
      "[nltk_data]     C:\\Users\\jains\\AppData\\Roaming\\nltk_data...\n",
      "[nltk_data]   Package stopwords is already up-to-date!\n"
     ]
    }
   ],
   "source": [
    "import numpy as np # for linear algebra\n",
    "import pandas as pd # for data processing, CSV file I/O (e.g. pd.read_csv)\n",
    "\n",
    "import tensorflow as tf\n",
    "from tensorflow.keras.preprocessing.text import Tokenizer\n",
    "from tensorflow.keras.preprocessing.sequence import pad_sequences\n",
    "from tensorflow.keras.utils import to_categorical\n",
    "from tensorflow.keras.callbacks import Callback\n",
    "\n",
    "from sklearn.model_selection import train_test_split\n",
    "\n",
    "import string\n",
    "import nltk\n",
    "nltk.download('stopwords')\n",
    "from nltk.corpus import stopwords\n",
    "STOPWORDS = set(stopwords.words('english'))\n",
    "\n",
    "import matplotlib.pyplot as plt\n"
   ]
  },
  {
   "cell_type": "markdown",
   "metadata": {},
   "source": [
    "#### Loading the Data:"
   ]
  },
  {
   "cell_type": "code",
   "execution_count": 7,
   "metadata": {
    "scrolled": true
   },
   "outputs": [
    {
     "data": {
      "text/html": [
       "<div>\n",
       "<style scoped>\n",
       "    .dataframe tbody tr th:only-of-type {\n",
       "        vertical-align: middle;\n",
       "    }\n",
       "\n",
       "    .dataframe tbody tr th {\n",
       "        vertical-align: top;\n",
       "    }\n",
       "\n",
       "    .dataframe thead th {\n",
       "        text-align: right;\n",
       "    }\n",
       "</style>\n",
       "<table border=\"1\" class=\"dataframe\">\n",
       "  <thead>\n",
       "    <tr style=\"text-align: right;\">\n",
       "      <th></th>\n",
       "      <th>title</th>\n",
       "      <th>text</th>\n",
       "      <th>subject</th>\n",
       "      <th>date</th>\n",
       "    </tr>\n",
       "  </thead>\n",
       "  <tbody>\n",
       "    <tr>\n",
       "      <th>0</th>\n",
       "      <td>As U.S. budget fight looms, Republicans flip t...</td>\n",
       "      <td>WASHINGTON (Reuters) - The head of a conservat...</td>\n",
       "      <td>politicsNews</td>\n",
       "      <td>December 31, 2017</td>\n",
       "    </tr>\n",
       "    <tr>\n",
       "      <th>1</th>\n",
       "      <td>U.S. military to accept transgender recruits o...</td>\n",
       "      <td>WASHINGTON (Reuters) - Transgender people will...</td>\n",
       "      <td>politicsNews</td>\n",
       "      <td>December 29, 2017</td>\n",
       "    </tr>\n",
       "    <tr>\n",
       "      <th>2</th>\n",
       "      <td>Senior U.S. Republican senator: 'Let Mr. Muell...</td>\n",
       "      <td>WASHINGTON (Reuters) - The special counsel inv...</td>\n",
       "      <td>politicsNews</td>\n",
       "      <td>December 31, 2017</td>\n",
       "    </tr>\n",
       "    <tr>\n",
       "      <th>3</th>\n",
       "      <td>FBI Russia probe helped by Australian diplomat...</td>\n",
       "      <td>WASHINGTON (Reuters) - Trump campaign adviser ...</td>\n",
       "      <td>politicsNews</td>\n",
       "      <td>December 30, 2017</td>\n",
       "    </tr>\n",
       "    <tr>\n",
       "      <th>4</th>\n",
       "      <td>Trump wants Postal Service to charge 'much mor...</td>\n",
       "      <td>SEATTLE/WASHINGTON (Reuters) - President Donal...</td>\n",
       "      <td>politicsNews</td>\n",
       "      <td>December 29, 2017</td>\n",
       "    </tr>\n",
       "  </tbody>\n",
       "</table>\n",
       "</div>"
      ],
      "text/plain": [
       "                                               title  \\\n",
       "0  As U.S. budget fight looms, Republicans flip t...   \n",
       "1  U.S. military to accept transgender recruits o...   \n",
       "2  Senior U.S. Republican senator: 'Let Mr. Muell...   \n",
       "3  FBI Russia probe helped by Australian diplomat...   \n",
       "4  Trump wants Postal Service to charge 'much mor...   \n",
       "\n",
       "                                                text       subject  \\\n",
       "0  WASHINGTON (Reuters) - The head of a conservat...  politicsNews   \n",
       "1  WASHINGTON (Reuters) - Transgender people will...  politicsNews   \n",
       "2  WASHINGTON (Reuters) - The special counsel inv...  politicsNews   \n",
       "3  WASHINGTON (Reuters) - Trump campaign adviser ...  politicsNews   \n",
       "4  SEATTLE/WASHINGTON (Reuters) - President Donal...  politicsNews   \n",
       "\n",
       "                 date  \n",
       "0  December 31, 2017   \n",
       "1  December 29, 2017   \n",
       "2  December 31, 2017   \n",
       "3  December 30, 2017   \n",
       "4  December 29, 2017   "
      ]
     },
     "execution_count": 7,
     "metadata": {},
     "output_type": "execute_result"
    }
   ],
   "source": [
    "real = pd.read_csv('data/True.csv') \n",
    "real.head()"
   ]
  },
  {
   "cell_type": "code",
   "execution_count": 8,
   "metadata": {},
   "outputs": [
    {
     "data": {
      "text/html": [
       "<div>\n",
       "<style scoped>\n",
       "    .dataframe tbody tr th:only-of-type {\n",
       "        vertical-align: middle;\n",
       "    }\n",
       "\n",
       "    .dataframe tbody tr th {\n",
       "        vertical-align: top;\n",
       "    }\n",
       "\n",
       "    .dataframe thead th {\n",
       "        text-align: right;\n",
       "    }\n",
       "</style>\n",
       "<table border=\"1\" class=\"dataframe\">\n",
       "  <thead>\n",
       "    <tr style=\"text-align: right;\">\n",
       "      <th></th>\n",
       "      <th>title</th>\n",
       "      <th>text</th>\n",
       "      <th>subject</th>\n",
       "      <th>date</th>\n",
       "    </tr>\n",
       "  </thead>\n",
       "  <tbody>\n",
       "    <tr>\n",
       "      <th>0</th>\n",
       "      <td>Donald Trump Sends Out Embarrassing New Year’...</td>\n",
       "      <td>Donald Trump just couldn t wish all Americans ...</td>\n",
       "      <td>News</td>\n",
       "      <td>December 31, 2017</td>\n",
       "    </tr>\n",
       "    <tr>\n",
       "      <th>1</th>\n",
       "      <td>Drunk Bragging Trump Staffer Started Russian ...</td>\n",
       "      <td>House Intelligence Committee Chairman Devin Nu...</td>\n",
       "      <td>News</td>\n",
       "      <td>December 31, 2017</td>\n",
       "    </tr>\n",
       "    <tr>\n",
       "      <th>2</th>\n",
       "      <td>Sheriff David Clarke Becomes An Internet Joke...</td>\n",
       "      <td>On Friday, it was revealed that former Milwauk...</td>\n",
       "      <td>News</td>\n",
       "      <td>December 30, 2017</td>\n",
       "    </tr>\n",
       "    <tr>\n",
       "      <th>3</th>\n",
       "      <td>Trump Is So Obsessed He Even Has Obama’s Name...</td>\n",
       "      <td>On Christmas day, Donald Trump announced that ...</td>\n",
       "      <td>News</td>\n",
       "      <td>December 29, 2017</td>\n",
       "    </tr>\n",
       "    <tr>\n",
       "      <th>4</th>\n",
       "      <td>Pope Francis Just Called Out Donald Trump Dur...</td>\n",
       "      <td>Pope Francis used his annual Christmas Day mes...</td>\n",
       "      <td>News</td>\n",
       "      <td>December 25, 2017</td>\n",
       "    </tr>\n",
       "  </tbody>\n",
       "</table>\n",
       "</div>"
      ],
      "text/plain": [
       "                                               title  \\\n",
       "0   Donald Trump Sends Out Embarrassing New Year’...   \n",
       "1   Drunk Bragging Trump Staffer Started Russian ...   \n",
       "2   Sheriff David Clarke Becomes An Internet Joke...   \n",
       "3   Trump Is So Obsessed He Even Has Obama’s Name...   \n",
       "4   Pope Francis Just Called Out Donald Trump Dur...   \n",
       "\n",
       "                                                text subject  \\\n",
       "0  Donald Trump just couldn t wish all Americans ...    News   \n",
       "1  House Intelligence Committee Chairman Devin Nu...    News   \n",
       "2  On Friday, it was revealed that former Milwauk...    News   \n",
       "3  On Christmas day, Donald Trump announced that ...    News   \n",
       "4  Pope Francis used his annual Christmas Day mes...    News   \n",
       "\n",
       "                date  \n",
       "0  December 31, 2017  \n",
       "1  December 31, 2017  \n",
       "2  December 30, 2017  \n",
       "3  December 29, 2017  \n",
       "4  December 25, 2017  "
      ]
     },
     "execution_count": 8,
     "metadata": {},
     "output_type": "execute_result"
    }
   ],
   "source": [
    "fake = pd.read_csv('data/Fake.csv')\n",
    "fake.head()"
   ]
  },
  {
   "cell_type": "markdown",
   "metadata": {},
   "source": [
    "#### Adding target labels to the data files and concatinating them :"
   ]
  },
  {
   "cell_type": "code",
   "execution_count": 12,
   "metadata": {},
   "outputs": [
    {
     "data": {
      "text/html": [
       "<div>\n",
       "<style scoped>\n",
       "    .dataframe tbody tr th:only-of-type {\n",
       "        vertical-align: middle;\n",
       "    }\n",
       "\n",
       "    .dataframe tbody tr th {\n",
       "        vertical-align: top;\n",
       "    }\n",
       "\n",
       "    .dataframe thead th {\n",
       "        text-align: right;\n",
       "    }\n",
       "</style>\n",
       "<table border=\"1\" class=\"dataframe\">\n",
       "  <thead>\n",
       "    <tr style=\"text-align: right;\">\n",
       "      <th></th>\n",
       "      <th>title</th>\n",
       "      <th>text</th>\n",
       "      <th>subject</th>\n",
       "      <th>date</th>\n",
       "      <th>target</th>\n",
       "    </tr>\n",
       "  </thead>\n",
       "  <tbody>\n",
       "    <tr>\n",
       "      <th>8812</th>\n",
       "      <td>Trump looks at retired general Flynn as possib...</td>\n",
       "      <td>WASHINGTON (Reuters) - Presumptive Republican ...</td>\n",
       "      <td>politicsNews</td>\n",
       "      <td>July 9, 2016</td>\n",
       "      <td>1</td>\n",
       "    </tr>\n",
       "    <tr>\n",
       "      <th>20383</th>\n",
       "      <td>UK police charge serving soldiers over suspect...</td>\n",
       "      <td>LONDON (Reuters) - Three men, including two se...</td>\n",
       "      <td>worldnews</td>\n",
       "      <td>September 11, 2017</td>\n",
       "      <td>1</td>\n",
       "    </tr>\n",
       "    <tr>\n",
       "      <th>2185</th>\n",
       "      <td>California sues Trump administration over sanc...</td>\n",
       "      <td>SAN FRANCISCO (Reuters) - California sued the ...</td>\n",
       "      <td>politicsNews</td>\n",
       "      <td>August 14, 2017</td>\n",
       "      <td>1</td>\n",
       "    </tr>\n",
       "    <tr>\n",
       "      <th>13181</th>\n",
       "      <td>Hadi calls on Yemenis to rise up against Houth...</td>\n",
       "      <td>DUBAI (Reuters) - Yemeni President Abd-Rabbu M...</td>\n",
       "      <td>worldnews</td>\n",
       "      <td>December 4, 2017</td>\n",
       "      <td>1</td>\n",
       "    </tr>\n",
       "    <tr>\n",
       "      <th>1716</th>\n",
       "      <td>Trump to 'slap' foes, embrace friends in first...</td>\n",
       "      <td>WASHINGTON (Reuters) - President Donald Trump ...</td>\n",
       "      <td>politicsNews</td>\n",
       "      <td>September 15, 2017</td>\n",
       "      <td>1</td>\n",
       "    </tr>\n",
       "    <tr>\n",
       "      <th>12789</th>\n",
       "      <td>Substantive changes to Brexit border text, say...</td>\n",
       "      <td>LONDON (Reuters) - Britain has made substantiv...</td>\n",
       "      <td>worldnews</td>\n",
       "      <td>December 8, 2017</td>\n",
       "      <td>1</td>\n",
       "    </tr>\n",
       "    <tr>\n",
       "      <th>19697</th>\n",
       "      <td>BREAKING EMAIL LEAK: “Bernie needs to be groun...</td>\n",
       "      <td>Hey Bernie how s that whole Queen of Wall Stre...</td>\n",
       "      <td>left-news</td>\n",
       "      <td>Nov 1, 2016</td>\n",
       "      <td>0</td>\n",
       "    </tr>\n",
       "    <tr>\n",
       "      <th>19731</th>\n",
       "      <td>MUST WATCH: Trump Supporter Unleashes Truth On...</td>\n",
       "      <td>Brunell Donald-Kyei:  We want tougher immigrat...</td>\n",
       "      <td>left-news</td>\n",
       "      <td>Oct 26, 2016</td>\n",
       "      <td>0</td>\n",
       "    </tr>\n",
       "    <tr>\n",
       "      <th>1635</th>\n",
       "      <td>China urges North Korea not to go further in a...</td>\n",
       "      <td>UNITED NATIONS (Reuters) - China’s foreign min...</td>\n",
       "      <td>politicsNews</td>\n",
       "      <td>September 21, 2017</td>\n",
       "      <td>1</td>\n",
       "    </tr>\n",
       "    <tr>\n",
       "      <th>19385</th>\n",
       "      <td>VACATIONING LAME-DUCK OBAMA Ready To Announce ...</td>\n",
       "      <td>The Obama administration plans to announce on ...</td>\n",
       "      <td>left-news</td>\n",
       "      <td>Dec 29, 2016</td>\n",
       "      <td>0</td>\n",
       "    </tr>\n",
       "  </tbody>\n",
       "</table>\n",
       "</div>"
      ],
      "text/plain": [
       "                                                   title  \\\n",
       "8812   Trump looks at retired general Flynn as possib...   \n",
       "20383  UK police charge serving soldiers over suspect...   \n",
       "2185   California sues Trump administration over sanc...   \n",
       "13181  Hadi calls on Yemenis to rise up against Houth...   \n",
       "1716   Trump to 'slap' foes, embrace friends in first...   \n",
       "12789  Substantive changes to Brexit border text, say...   \n",
       "19697  BREAKING EMAIL LEAK: “Bernie needs to be groun...   \n",
       "19731  MUST WATCH: Trump Supporter Unleashes Truth On...   \n",
       "1635   China urges North Korea not to go further in a...   \n",
       "19385  VACATIONING LAME-DUCK OBAMA Ready To Announce ...   \n",
       "\n",
       "                                                    text       subject  \\\n",
       "8812   WASHINGTON (Reuters) - Presumptive Republican ...  politicsNews   \n",
       "20383  LONDON (Reuters) - Three men, including two se...     worldnews   \n",
       "2185   SAN FRANCISCO (Reuters) - California sued the ...  politicsNews   \n",
       "13181  DUBAI (Reuters) - Yemeni President Abd-Rabbu M...     worldnews   \n",
       "1716   WASHINGTON (Reuters) - President Donald Trump ...  politicsNews   \n",
       "12789  LONDON (Reuters) - Britain has made substantiv...     worldnews   \n",
       "19697  Hey Bernie how s that whole Queen of Wall Stre...     left-news   \n",
       "19731  Brunell Donald-Kyei:  We want tougher immigrat...     left-news   \n",
       "1635   UNITED NATIONS (Reuters) - China’s foreign min...  politicsNews   \n",
       "19385  The Obama administration plans to announce on ...     left-news   \n",
       "\n",
       "                      date  target  \n",
       "8812         July 9, 2016        1  \n",
       "20383  September 11, 2017        1  \n",
       "2185      August 14, 2017        1  \n",
       "13181    December 4, 2017        1  \n",
       "1716   September 15, 2017        1  \n",
       "12789    December 8, 2017        1  \n",
       "19697          Nov 1, 2016       0  \n",
       "19731         Oct 26, 2016       0  \n",
       "1635   September 21, 2017        1  \n",
       "19385         Dec 29, 2016       0  "
      ]
     },
     "execution_count": 12,
     "metadata": {},
     "output_type": "execute_result"
    }
   ],
   "source": [
    "real['target'] = 1\n",
    "fake['target'] = 0\n",
    "data = pd.concat([real, fake], axis=0)\n",
    "data.sample(10)"
   ]
  },
  {
   "cell_type": "markdown",
   "metadata": {},
   "source": [
    "#### Text Cleaning:"
   ]
  },
  {
   "cell_type": "code",
   "execution_count": 14,
   "metadata": {},
   "outputs": [
    {
     "data": {
      "text/html": [
       "<div>\n",
       "<style scoped>\n",
       "    .dataframe tbody tr th:only-of-type {\n",
       "        vertical-align: middle;\n",
       "    }\n",
       "\n",
       "    .dataframe tbody tr th {\n",
       "        vertical-align: top;\n",
       "    }\n",
       "\n",
       "    .dataframe thead th {\n",
       "        text-align: right;\n",
       "    }\n",
       "</style>\n",
       "<table border=\"1\" class=\"dataframe\">\n",
       "  <thead>\n",
       "    <tr style=\"text-align: right;\">\n",
       "      <th></th>\n",
       "      <th>title</th>\n",
       "      <th>text</th>\n",
       "      <th>subject</th>\n",
       "      <th>date</th>\n",
       "      <th>target</th>\n",
       "    </tr>\n",
       "  </thead>\n",
       "  <tbody>\n",
       "    <tr>\n",
       "      <th>12801</th>\n",
       "      <td>china jails 21 people 2015 nursing home fire x...</td>\n",
       "      <td>shanghai reuters china jailed 21 people roles ...</td>\n",
       "      <td>worldnews</td>\n",
       "      <td>December 8, 2017</td>\n",
       "      <td>1</td>\n",
       "    </tr>\n",
       "    <tr>\n",
       "      <th>8523</th>\n",
       "      <td>obama administration releases redacted version...</td>\n",
       "      <td>washington reuters obama administration releas...</td>\n",
       "      <td>politicsNews</td>\n",
       "      <td>August 6, 2016</td>\n",
       "      <td>1</td>\n",
       "    </tr>\n",
       "    <tr>\n",
       "      <th>11776</th>\n",
       "      <td>arab coalition says keep yemen port open air r...</td>\n",
       "      <td>aden reuters saudi led coalition fighting yeme...</td>\n",
       "      <td>worldnews</td>\n",
       "      <td>December 20, 2017</td>\n",
       "      <td>1</td>\n",
       "    </tr>\n",
       "    <tr>\n",
       "      <th>4104</th>\n",
       "      <td>trump urges u n reform make u investment worth...</td>\n",
       "      <td>washington reuters president donald trump comp...</td>\n",
       "      <td>politicsNews</td>\n",
       "      <td>April 24, 2017</td>\n",
       "      <td>1</td>\n",
       "    </tr>\n",
       "    <tr>\n",
       "      <th>20693</th>\n",
       "      <td>fema may run funds friday senators</td>\n",
       "      <td>washington reuters u federal emergency managem...</td>\n",
       "      <td>worldnews</td>\n",
       "      <td>September 7, 2017</td>\n",
       "      <td>1</td>\n",
       "    </tr>\n",
       "    <tr>\n",
       "      <th>5375</th>\n",
       "      <td>trump defense chief sees military collaboratio...</td>\n",
       "      <td>brussels reuters u president donald trump’s de...</td>\n",
       "      <td>politicsNews</td>\n",
       "      <td>February 16, 2017</td>\n",
       "      <td>1</td>\n",
       "    </tr>\n",
       "    <tr>\n",
       "      <th>20903</th>\n",
       "      <td>video hillary clinton want see</td>\n",
       "      <td>spread everywhere</td>\n",
       "      <td>left-news</td>\n",
       "      <td>Mar 9, 2016</td>\n",
       "      <td>0</td>\n",
       "    </tr>\n",
       "    <tr>\n",
       "      <th>8488</th>\n",
       "      <td>gross gop candidates using military vets human...</td>\n",
       "      <td>least two republican campaigns using veteran g...</td>\n",
       "      <td>News</td>\n",
       "      <td>January 28, 2016</td>\n",
       "      <td>0</td>\n",
       "    </tr>\n",
       "    <tr>\n",
       "      <th>10489</th>\n",
       "      <td>appellate judges garland srinivasan considered...</td>\n",
       "      <td>washington reuters white house vetting federal...</td>\n",
       "      <td>politicsNews</td>\n",
       "      <td>March 5, 2016</td>\n",
       "      <td>1</td>\n",
       "    </tr>\n",
       "    <tr>\n",
       "      <th>11568</th>\n",
       "      <td>major cosmetic company announces plans release...</td>\n",
       "      <td>cosmetics brand lush popular among young girls...</td>\n",
       "      <td>politics</td>\n",
       "      <td>Feb 26, 2017</td>\n",
       "      <td>0</td>\n",
       "    </tr>\n",
       "  </tbody>\n",
       "</table>\n",
       "</div>"
      ],
      "text/plain": [
       "                                                   title  \\\n",
       "12801  china jails 21 people 2015 nursing home fire x...   \n",
       "8523   obama administration releases redacted version...   \n",
       "11776  arab coalition says keep yemen port open air r...   \n",
       "4104   trump urges u n reform make u investment worth...   \n",
       "20693                 fema may run funds friday senators   \n",
       "5375   trump defense chief sees military collaboratio...   \n",
       "20903                     video hillary clinton want see   \n",
       "8488   gross gop candidates using military vets human...   \n",
       "10489  appellate judges garland srinivasan considered...   \n",
       "11568  major cosmetic company announces plans release...   \n",
       "\n",
       "                                                    text       subject  \\\n",
       "12801  shanghai reuters china jailed 21 people roles ...     worldnews   \n",
       "8523   washington reuters obama administration releas...  politicsNews   \n",
       "11776  aden reuters saudi led coalition fighting yeme...     worldnews   \n",
       "4104   washington reuters president donald trump comp...  politicsNews   \n",
       "20693  washington reuters u federal emergency managem...     worldnews   \n",
       "5375   brussels reuters u president donald trump’s de...  politicsNews   \n",
       "20903                                  spread everywhere     left-news   \n",
       "8488   least two republican campaigns using veteran g...          News   \n",
       "10489  washington reuters white house vetting federal...  politicsNews   \n",
       "11568  cosmetics brand lush popular among young girls...      politics   \n",
       "\n",
       "                     date  target  \n",
       "12801   December 8, 2017        1  \n",
       "8523      August 6, 2016        1  \n",
       "11776  December 20, 2017        1  \n",
       "4104      April 24, 2017        1  \n",
       "20693  September 7, 2017        1  \n",
       "5375   February 16, 2017        1  \n",
       "20903         Mar 9, 2016       0  \n",
       "8488     January 28, 2016       0  \n",
       "10489      March 5, 2016        1  \n",
       "11568        Feb 26, 2017       0  "
      ]
     },
     "execution_count": 14,
     "metadata": {},
     "output_type": "execute_result"
    }
   ],
   "source": [
    "def clean(text):\n",
    "    #1. Remove punctuation\n",
    "    translator1 = str.maketrans(string.punctuation, ' '*len(string.punctuation))\n",
    "    text = text.translate(translator1)\n",
    "    \n",
    "    #2. Convert to lowercase characters\n",
    "    text = text.lower()\n",
    "    \n",
    "    #3. Remove stopwords\n",
    "    text = ' '.join([word for word in text.split() if word not in STOPWORDS])\n",
    "    \n",
    "    return text\n",
    "\n",
    "# Apply cleaning to title and text in dataset\n",
    "data['title'] = data['title'].apply(clean)\n",
    "data['text'] = data['text'].apply(clean)\n",
    "data.sample(10)"
   ]
  },
  {
   "cell_type": "code",
   "execution_count": 19,
   "metadata": {},
   "outputs": [],
   "source": [
    "# Hyperparameters for title and text\n",
    "vocab_size = 100000\n",
    "embedding_dim_title = 128\n",
    "max_length_title = 40\n",
    "embedding_dim_text = 500\n",
    "max_length_text = 500\n",
    "trunc_type = 'post'\n",
    "padding_type = 'post'\n",
    "oov_tok = '<OOV>'\n",
    "test_ratio = .3\n",
    "embedding_dim = 500\n",
    "max_length_text = 500"
   ]
  },
  {
   "cell_type": "markdown",
   "metadata": {},
   "source": [
    "#### Tokenization and Padding of the data:"
   ]
  },
  {
   "cell_type": "code",
   "execution_count": 15,
   "metadata": {},
   "outputs": [],
   "source": [
    "def preprocessing(data, dependent_column=None, target='target', max_len=40):\n",
    "    train_X, test_X, train_y, test_y = train_test_split(data[dependent_column], data[target], test_size=test_ratio)\n",
    "    tokenizer = Tokenizer(num_words=vocab_size,\n",
    "                          oov_token=oov_tok)\n",
    "    tokenizer.fit_on_texts(train_X)\n",
    "    train_sequences = tokenizer.texts_to_sequences(train_X)\n",
    "    train_padded = pad_sequences(train_sequences, maxlen=max_len,\n",
    "                                padding=padding_type,\n",
    "                                truncating=trunc_type)\n",
    "    test_sequences = tokenizer.texts_to_sequences(test_X)\n",
    "    test_padded = pad_sequences(test_sequences, maxlen=max_len,\n",
    "                               padding=padding_type,\n",
    "                               truncating=trunc_type)\n",
    "    return train_padded, test_padded, train_y, test_y"
   ]
  },
  {
   "cell_type": "code",
   "execution_count": 20,
   "metadata": {},
   "outputs": [],
   "source": [
    "train_padded, test_padded, train_y, test_y = preprocessing(data, dependent_column='title', max_len=max_length_title)"
   ]
  },
  {
   "cell_type": "markdown",
   "metadata": {},
   "source": [
    "### BLSTM:"
   ]
  },
  {
   "cell_type": "code",
   "execution_count": 21,
   "metadata": {},
   "outputs": [],
   "source": [
    "model = tf.keras.Sequential()\n",
    "model.add(tf.keras.layers.Embedding(vocab_size, embedding_dim))\n",
    "model.add(tf.keras.layers.Bidirectional(tf.keras.layers.LSTM(embedding_dim)))\n",
    "model.add(tf.keras.layers.Dense(embedding_dim, activation='relu'))\n",
    "model.add(tf.keras.layers.Dense(1, activation='sigmoid'))\n",
    "model.compile(loss='binary_crossentropy', optimizer='adam', metrics=['acc'])"
   ]
  },
  {
   "cell_type": "code",
   "execution_count": 27,
   "metadata": {},
   "outputs": [],
   "source": [
    "train_y = np.asarray(train_y)\n",
    "test_y = np.asarray(test_y)"
   ]
  },
  {
   "cell_type": "code",
   "execution_count": 30,
   "metadata": {},
   "outputs": [
    {
     "name": "stdout",
     "output_type": "stream",
     "text": [
      "Train on 3000 samples, validate on 300 samples\n",
      "Epoch 1/2\n",
      "3000/3000 [==============================] - 112s 37ms/sample - loss: 0.1599 - acc: 0.9407 - val_loss: 0.1100 - val_acc: 0.9600\n",
      "Epoch 2/2\n",
      "3000/3000 [==============================] - 131s 44ms/sample - loss: 0.0201 - acc: 0.9920 - val_loss: 0.1799 - val_acc: 0.9400\n"
     ]
    }
   ],
   "source": [
    "history = model.fit(train_padded[3302:6302], train_y[3302:6302], validation_data=(train_padded[6303:6603], train_y[6303:6603]), epochs=2, batch_size=64)"
   ]
  },
  {
   "cell_type": "code",
   "execution_count": 37,
   "metadata": {},
   "outputs": [
    {
     "data": {
      "image/png": "[encoded data removed]",
      "text/plain": [
       "<Figure size 432x288 with 1 Axes>"
      ]
     },
     "metadata": {
      "needs_background": "light"
     },
     "output_type": "display_data"
    }
   ],
   "source": [
    "plt.plot(history.history['acc'])\n",
    "plt.plot(history.history['val_acc'])\n",
    "plt.title('model accuracy')\n",
    "plt.ylabel('accuracy')\n",
    "plt.xlabel('epoch')\n",
    "plt.legend(['train', 'test'], loc='upper left')\n",
    "plt.show()"
   ]
  },
  {
   "cell_type": "code",
   "execution_count": 38,
   "metadata": {},
   "outputs": [],
   "source": [
    "pred = model.predict(test_padded)"
   ]
  },
  {
   "cell_type": "code",
   "execution_count": 42,
   "metadata": {},
   "outputs": [
    {
     "data": {
      "text/plain": [
       "0.7991409886341365"
      ]
     },
     "execution_count": 42,
     "metadata": {},
     "output_type": "execute_result"
    }
   ],
   "source": [
    "r2_score(test_y, pred) "
   ]
  },
  {
   "cell_type": "markdown",
   "metadata": {},
   "source": [
    "### Adding a conv layer and training on Text:"
   ]
  },
  {
   "cell_type": "code",
   "execution_count": 49,
   "metadata": {},
   "outputs": [],
   "source": [
    "train_padded, test_padded, train_y, test_y = preprocessing(data, dependent_column='text', max_len=max_length_title)"
   ]
  },
  {
   "cell_type": "code",
   "execution_count": 50,
   "metadata": {},
   "outputs": [],
   "source": [
    "from keras.layers import Input, Dense, LSTM, MaxPooling1D, Conv1D\n",
    "from keras.models import Model\n",
    "\n",
    "model = tf.keras.Sequential()\n",
    "model.add(tf.keras.layers.Embedding(vocab_size, embedding_dim))\n",
    "model.add(tf.keras.layers.Conv1D(filters=32,kernel_size=8,strides=1,activation='relu',padding='same'))\n",
    "model.add(tf.keras.layers.Bidirectional(tf.keras.layers.LSTM(embedding_dim)))\n",
    "model.add(tf.keras.layers.Dense(embedding_dim, activation='relu'))\n",
    "model.add(tf.keras.layers.Dense(1, activation='sigmoid'))\n",
    "model.compile(loss='binary_crossentropy', optimizer='adam', metrics=['acc'])"
   ]
  },
  {
   "cell_type": "code",
   "execution_count": 51,
   "metadata": {},
   "outputs": [
    {
     "name": "stdout",
     "output_type": "stream",
     "text": [
      "Model: \"sequential_5\"\n",
      "_________________________________________________________________\n",
      "Layer (type)                 Output Shape              Param #   \n",
      "=================================================================\n",
      "embedding_4 (Embedding)      (None, None, 500)         50000000  \n",
      "_________________________________________________________________\n",
      "conv1d_2 (Conv1D)            (None, None, 32)          128032    \n",
      "_________________________________________________________________\n",
      "bidirectional_3 (Bidirection (None, 1000)              2132000   \n",
      "_________________________________________________________________\n",
      "dense_6 (Dense)              (None, 500)               500500    \n",
      "_________________________________________________________________\n",
      "dense_7 (Dense)              (None, 1)                 501       \n",
      "=================================================================\n",
      "Total params: 52,761,033\n",
      "Trainable params: 52,761,033\n",
      "Non-trainable params: 0\n",
      "_________________________________________________________________\n"
     ]
    }
   ],
   "source": [
    "model.summary()"
   ]
  },
  {
   "cell_type": "code",
   "execution_count": 52,
   "metadata": {},
   "outputs": [
    {
     "name": "stdout",
     "output_type": "stream",
     "text": [
      "Train on 6000 samples, validate on 602 samples\n",
      "Epoch 1/2\n",
      "6000/6000 [==============================] - 190s 32ms/sample - loss: 0.0952 - acc: 0.9547 - val_loss: 0.0168 - val_acc: 0.9967\n",
      "Epoch 2/2\n",
      "6000/6000 [==============================] - 206s 34ms/sample - loss: 0.0032 - acc: 0.9993 - val_loss: 0.0151 - val_acc: 0.9983\n"
     ]
    }
   ],
   "source": [
    "train_y = np.asarray(train_y)\n",
    "test_y = np.asarray(test_y)\n",
    "\n",
    "history = model.fit(train_padded[0:6000], train_y[0:6000], validation_data=(train_padded[6001:6603], train_y[6001:6603]), epochs=2, batch_size=64)"
   ]
  },
  {
   "cell_type": "code",
   "execution_count": 53,
   "metadata": {},
   "outputs": [],
   "source": [
    "pred = model.predict(test_padded)"
   ]
  },
  {
   "cell_type": "code",
   "execution_count": 56,
   "metadata": {},
   "outputs": [
    {
     "data": {
      "text/plain": [
       "0.9918605204601003"
      ]
     },
     "execution_count": 56,
     "metadata": {},
     "output_type": "execute_result"
    }
   ],
   "source": [
    "r2_score(test_y, pred) "
   ]
  },
  {
   "cell_type": "code",
   "execution_count": null,
   "metadata": {},
   "outputs": [],
   "source": []
  }
 ],
 "metadata": {
  "kernelspec": {
   "display_name": "Python 3",
   "language": "python",
   "name": "python3"
  },
  "language_info": {
   "codemirror_mode": {
    "name": "ipython",
    "version": 3
   },
   "file_extension": ".py",
   "mimetype": "text/x-python",
   "name": "python",
   "nbconvert_exporter": "python",
   "pygments_lexer": "ipython3",
   "version": "3.7.3"
  }
 },
 "nbformat": 4,
 "nbformat_minor": 2
}
